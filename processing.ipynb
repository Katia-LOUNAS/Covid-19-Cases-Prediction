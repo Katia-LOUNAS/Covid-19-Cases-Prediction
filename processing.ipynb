{
 "cells": [
  {
   "attachments": {},
   "cell_type": "markdown",
   "metadata": {},
   "source": [
    "<h1>Importing bib</h1>"
   ]
  },
  {
   "cell_type": "code",
   "execution_count": 14,
   "metadata": {},
   "outputs": [],
   "source": [
    "import pandas as pd\n",
    "import os\n",
    "import matplotlib.pyplot as plt"
   ]
  },
  {
   "attachments": {},
   "cell_type": "markdown",
   "metadata": {},
   "source": [
    "<h1>Data Preprocessing</h1>"
   ]
  },
  {
   "attachments": {},
   "cell_type": "markdown",
   "metadata": {},
   "source": [
    "<h3>Data importation </h3>"
   ]
  },
  {
   "cell_type": "code",
   "execution_count": 2,
   "metadata": {},
   "outputs": [
    {
     "data": {
      "text/plain": [
       "['continents2.csv',\n",
       " 'CONVENIENT_global_confirmed_cases.csv',\n",
       " 'CONVENIENT_global_deaths.csv',\n",
       " 'CONVENIENT_global_metadata.csv',\n",
       " 'CONVENIENT_us_confirmed_cases.csv',\n",
       " 'CONVENIENT_us_deaths.csv',\n",
       " 'CONVENIENT_us_metadata.csv',\n",
       " 'RAW_global_confirmed_cases.csv',\n",
       " 'RAW_global_deaths.csv',\n",
       " 'RAW_us_confirmed_cases.csv',\n",
       " 'RAW_us_deaths.csv']"
      ]
     },
     "execution_count": 2,
     "metadata": {},
     "output_type": "execute_result"
    }
   ],
   "source": [
    "path=\"./dataset\"\n",
    "data=os.listdir(path)\n",
    "data"
   ]
  },
  {
   "cell_type": "code",
   "execution_count": 11,
   "metadata": {},
   "outputs": [
    {
     "data": {
      "text/plain": [
       "(1143, 290)"
      ]
     },
     "execution_count": 11,
     "metadata": {},
     "output_type": "execute_result"
    }
   ],
   "source": [
    "df0 = pd.read_csv(\"./dataset/CONVENIENT_global_confirmed_cases.csv\")\n",
    "df1 = pd.read_csv(\"./dataset/CONVENIENT_global_deaths.csv\")\n",
    "df0.shape"
   ]
  },
  {
   "cell_type": "code",
   "execution_count": 12,
   "metadata": {},
   "outputs": [
    {
     "data": {
      "text/plain": [
       "(1143, 290)"
      ]
     },
     "execution_count": 12,
     "metadata": {},
     "output_type": "execute_result"
    }
   ],
   "source": [
    "df1.shape"
   ]
  },
  {
   "attachments": {},
   "cell_type": "markdown",
   "metadata": {},
   "source": [
    "Create an empty Pandas DataFrame named \"world\" with two columns: \"Country\" and \"Cases\""
   ]
  },
  {
   "cell_type": "code",
   "execution_count": 15,
   "metadata": {},
   "outputs": [],
   "source": [
    "world = pd.DataFrame({\"Country\":[],\"Cases\":[]})\n",
    "world[\"Country\"] = df0.iloc[:,1:].columns\n",
    "cases = []\n",
    "cases = [pd.to_numeric(df0[i][1:]).sum() for i in world[\"Country\"]]\n",
    "world[\"Cases\"] = cases\n"
   ]
  }
 ],
 "metadata": {
  "kernelspec": {
   "display_name": "My Python 3 Kernel",
   "language": "python",
   "name": "my-python3-kernel"
  },
  "language_info": {
   "codemirror_mode": {
    "name": "ipython",
    "version": 3
   },
   "file_extension": ".py",
   "mimetype": "text/x-python",
   "name": "python",
   "nbconvert_exporter": "python",
   "pygments_lexer": "ipython3",
   "version": "3.10.11"
  },
  "orig_nbformat": 4
 },
 "nbformat": 4,
 "nbformat_minor": 2
}
